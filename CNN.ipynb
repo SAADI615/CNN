{
  "nbformat": 4,
  "nbformat_minor": 0,
  "metadata": {
    "colab": {
      "provenance": []
    },
    "kernelspec": {
      "name": "python3",
      "display_name": "Python 3"
    },
    "language_info": {
      "name": "python"
    }
  },
  "cells": [
    {
      "cell_type": "code",
      "execution_count": 56,
      "metadata": {
        "id": "Nsul2Niz85ky"
      },
      "outputs": [],
      "source": [
        "import tensorflow as tf\n",
        "from tensorflow import keras\n",
        "from tensorflow.keras import datasets, layers\n",
        "import numpy as np\n",
        "import matplotlib.pyplot as plt\n",
        "import pandas as pd"
      ]
    },
    {
      "cell_type": "code",
      "source": [
        "(xtrain, ytrain), (xtest, ytest) = tf.keras.datasets.cifar10.load_data()\n",
        "xtrain.shape, ytrain.shape, xtest.shape, ytest.shape"
      ],
      "metadata": {
        "colab": {
          "base_uri": "https://localhost:8080/"
        },
        "id": "KXTBoEV_9GQU",
        "outputId": "3121f352-35fa-498f-8728-2c440313e99a"
      },
      "execution_count": 7,
      "outputs": [
        {
          "output_type": "execute_result",
          "data": {
            "text/plain": [
              "((50000, 32, 32, 3), (50000, 1), (10000, 32, 32, 3), (10000, 1))"
            ]
          },
          "metadata": {},
          "execution_count": 7
        }
      ]
    },
    {
      "cell_type": "code",
      "source": [
        "classes = [\"airplane\",\"automobile\",\"bird\",\"cat\",\"deer\",\"dog\",\"frog\",\"horse\",\"ship\",\"truck\"]"
      ],
      "metadata": {
        "id": "rKoB9cyTBQic"
      },
      "execution_count": 25,
      "outputs": []
    },
    {
      "cell_type": "code",
      "source": [
        "def plot_sample(index):\n",
        "  plt.figure(figsize=(2,2))\n",
        "  plt.imshow(xtrain[index])\n",
        "  for i in ytrain[index]:\n",
        "    break\n",
        "  plt.title(classes[i])"
      ],
      "metadata": {
        "id": "Lh9kRpYo9aBq"
      },
      "execution_count": 47,
      "outputs": []
    },
    {
      "cell_type": "code",
      "source": [
        "plot_sample(5)"
      ],
      "metadata": {
        "colab": {
          "base_uri": "https://localhost:8080/",
          "height": 237
        },
        "id": "l67PRZ4V-2wy",
        "outputId": "b2a4beed-3659-4951-cece-c18628857176"
      },
      "execution_count": 48,
      "outputs": [
        {
          "output_type": "display_data",
          "data": {
            "text/plain": [
              "<Figure size 200x200 with 1 Axes>"
            ],
            "image/png": "[encoded data removed]"
          },
          "metadata": {}
        }
      ]
    },
    {
      "cell_type": "code",
      "source": [
        "xtrain = xtrain/255\n",
        "xtest = xtest/255"
      ],
      "metadata": {
        "id": "k3cHGjLt_HLk"
      },
      "execution_count": 49,
      "outputs": []
    },
    {
      "cell_type": "code",
      "source": [
        "model = keras.Sequential([\n",
        "    #cnn\n",
        "    layers.Conv2D(filters=32, kernel_size=(3,3), activation='relu', input_shape=(32,32,3)),\n",
        "    layers.MaxPooling2D((2,2)),\n",
        "\n",
        "    layers.Conv2D(filters=64, kernel_size=(3,3), activation='relu'),\n",
        "    layers.MaxPooling2D((2,2)),\n",
        "\n",
        "    #dense\n",
        "    layers.Flatten(),\n",
        "    layers.Dense(64, activation='relu'),\n",
        "    layers.Dense(10, activation='softmax')\n",
        "])\n",
        "\n",
        "model.compile(optimizer='SGD',\n",
        "              loss='sparse_categorical_crossentropy',\n",
        "              metrics=['accuracy'])\n",
        "\n",
        "model.fit(xtrain, ytrain, epochs=20)"
      ],
      "metadata": {
        "colab": {
          "base_uri": "https://localhost:8080/"
        },
        "id": "duT03IJvJY-d",
        "outputId": "a9690ab6-d607-4fbd-8d12-f0f010c79c53"
      },
      "execution_count": 63,
      "outputs": [
        {
          "output_type": "stream",
          "name": "stdout",
          "text": [
            "Epoch 1/20\n",
            "1563/1563 [==============================] - 63s 40ms/step - loss: 2.0444 - accuracy: 0.2581\n",
            "Epoch 2/20\n",
            "1563/1563 [==============================] - 63s 41ms/step - loss: 1.6426 - accuracy: 0.4151\n",
            "Epoch 3/20\n",
            "1563/1563 [==============================] - 62s 39ms/step - loss: 1.4447 - accuracy: 0.4857\n",
            "Epoch 4/20\n",
            "1563/1563 [==============================] - 62s 40ms/step - loss: 1.3326 - accuracy: 0.5292\n",
            "Epoch 5/20\n",
            "1563/1563 [==============================] - 61s 39ms/step - loss: 1.2438 - accuracy: 0.5625\n",
            "Epoch 6/20\n",
            "1563/1563 [==============================] - 62s 40ms/step - loss: 1.1740 - accuracy: 0.5897\n",
            "Epoch 7/20\n",
            "1563/1563 [==============================] - 65s 41ms/step - loss: 1.1090 - accuracy: 0.6106\n",
            "Epoch 8/20\n",
            "1563/1563 [==============================] - 64s 41ms/step - loss: 1.0527 - accuracy: 0.6323\n",
            "Epoch 9/20\n",
            "1563/1563 [==============================] - 62s 40ms/step - loss: 1.0073 - accuracy: 0.6501\n",
            "Epoch 10/20\n",
            "1563/1563 [==============================] - 63s 40ms/step - loss: 0.9613 - accuracy: 0.6654\n",
            "Epoch 11/20\n",
            "1563/1563 [==============================] - 61s 39ms/step - loss: 0.9263 - accuracy: 0.6782\n",
            "Epoch 12/20\n",
            "1563/1563 [==============================] - 62s 40ms/step - loss: 0.8917 - accuracy: 0.6903\n",
            "Epoch 13/20\n",
            "1563/1563 [==============================] - 63s 40ms/step - loss: 0.8595 - accuracy: 0.7034\n",
            "Epoch 14/20\n",
            "1563/1563 [==============================] - 61s 39ms/step - loss: 0.8286 - accuracy: 0.7118\n",
            "Epoch 15/20\n",
            "1563/1563 [==============================] - 63s 40ms/step - loss: 0.7997 - accuracy: 0.7223\n",
            "Epoch 16/20\n",
            "1563/1563 [==============================] - 62s 39ms/step - loss: 0.7727 - accuracy: 0.7341\n",
            "Epoch 17/20\n",
            "1563/1563 [==============================] - 61s 39ms/step - loss: 0.7461 - accuracy: 0.7402\n",
            "Epoch 18/20\n",
            "1563/1563 [==============================] - 62s 39ms/step - loss: 0.7190 - accuracy: 0.7500\n",
            "Epoch 19/20\n",
            "1563/1563 [==============================] - 64s 41ms/step - loss: 0.6949 - accuracy: 0.7595\n",
            "Epoch 20/20\n",
            "1563/1563 [==============================] - 63s 40ms/step - loss: 0.6685 - accuracy: 0.7690\n"
          ]
        },
        {
          "output_type": "execute_result",
          "data": {
            "text/plain": [
              "<keras.src.callbacks.History at 0x7e6a40cc4640>"
            ]
          },
          "metadata": {},
          "execution_count": 63
        }
      ]
    },
    {
      "cell_type": "code",
      "source": [
        "model.evaluate(xtest, ytest)"
      ],
      "metadata": {
        "colab": {
          "base_uri": "https://localhost:8080/"
        },
        "id": "ZlV1yjLHGEmH",
        "outputId": "c0a664fc-c469-475f-a2c1-739ac92bca80"
      },
      "execution_count": 65,
      "outputs": [
        {
          "output_type": "stream",
          "name": "stdout",
          "text": [
            "313/313 [==============================] - 4s 11ms/step - loss: 0.9340 - accuracy: 0.6825\n"
          ]
        },
        {
          "output_type": "execute_result",
          "data": {
            "text/plain": [
              "[0.934029221534729, 0.6825000047683716]"
            ]
          },
          "metadata": {},
          "execution_count": 65
        }
      ]
    },
    {
      "cell_type": "code",
      "source": [
        "ypred = model.predict(xtest)"
      ],
      "metadata": {
        "colab": {
          "base_uri": "https://localhost:8080/"
        },
        "id": "OZpR2aZ-LDau",
        "outputId": "07baa53e-01f6-4c1e-989b-a71cc3fb93b2"
      },
      "execution_count": 68,
      "outputs": [
        {
          "output_type": "stream",
          "name": "stdout",
          "text": [
            "313/313 [==============================] - 4s 12ms/step\n"
          ]
        }
      ]
    },
    {
      "cell_type": "code",
      "source": [
        "y_classes = [np.argmax(i) for i in ypred]\n",
        "y_classes[0:5]"
      ],
      "metadata": {
        "colab": {
          "base_uri": "https://localhost:8080/"
        },
        "id": "pNmz2lkxSPNi",
        "outputId": "4a6c6342-7245-4798-9219-3b313f5164b8"
      },
      "execution_count": 74,
      "outputs": [
        {
          "output_type": "execute_result",
          "data": {
            "text/plain": [
              "[3, 1, 8, 0, 4]"
            ]
          },
          "metadata": {},
          "execution_count": 74
        }
      ]
    },
    {
      "cell_type": "code",
      "source": [
        "ytest[0:5]"
      ],
      "metadata": {
        "colab": {
          "base_uri": "https://localhost:8080/"
        },
        "id": "bmHWu158S9qM",
        "outputId": "c29a5b7b-08d9-4dc5-ef06-08816f074780"
      },
      "execution_count": 76,
      "outputs": [
        {
          "output_type": "execute_result",
          "data": {
            "text/plain": [
              "array([[3],\n",
              "       [8],\n",
              "       [8],\n",
              "       [0],\n",
              "       [6]], dtype=uint8)"
            ]
          },
          "metadata": {},
          "execution_count": 76
        }
      ]
    },
    {
      "cell_type": "code",
      "source": [],
      "metadata": {
        "id": "UB64xd0vT-Nt"
      },
      "execution_count": null,
      "outputs": []
    }
  ]
}